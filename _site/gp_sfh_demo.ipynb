{
 "cells": [
  {
   "cell_type": "code",
   "execution_count": 1,
   "metadata": {},
   "outputs": [
    {
     "data": {
      "application/vnd.jupyter.widget-view+json": {
       "model_id": "6d39fba4f6d84a0da297d4b7bf03b115",
       "version_major": 2,
       "version_minor": 0
      },
      "text/plain": [
       "VBox(children=(interactive(children=(FloatSlider(value=6.673349197347818, description='t50_gyr', max=12.793634…"
      ]
     },
     "metadata": {},
     "output_type": "display_data"
    }
   ],
   "source": [
    "from gp_sfh import gp_sfh_george, calctimes\n",
    "import nbinteract as nbi\n",
    "import numpy as np\n",
    "\n",
    "import warnings\n",
    "warnings.filterwarnings('ignore')\n",
    "\n",
    "from astropy.cosmology import FlatLambdaCDM\n",
    "cosmo = FlatLambdaCDM(H0=70, Om0=0.3)\n",
    "\n",
    "def x_values():\n",
    "    return cosmo.age(0.0).value - np.linspace(0,cosmo.age(0.0).value,1000)\n",
    "def y_values(x, log_mstar, log_ssfr, t50_gyr):\n",
    "    sfh_tuple = np.hstack([log_mstar,log_ssfr+log_mstar,1,1 - t50_gyr/cosmo.age(0.0).value])\n",
    "    rand_sfh, _ = gp_sfh_george(sfh_tuple, zval = 0.0)\n",
    "    return rand_sfh\n",
    "\n",
    "opts = {\n",
    "    'xlim': (0, 14),\n",
    "    'ylim': (0, 12),\n",
    "    'animation_duration': 120,\n",
    "    'xlabel': 'lookback time [Gyr]',\n",
    "    'ylabel': 'SFR(t) [Msun/yr]',\n",
    "    'title': 'Gaussian Process-based Star Formation Histories'\n",
    "}\n",
    "\n",
    "nbi.line(x_values, y_values, \n",
    "         t50_gyr = (cosmo.age(0.0).value*0.05,cosmo.age(0.0).value*0.95, 0.1), \n",
    "         log_ssfr = (-12.0,-9.0,0.1), log_mstar = (10.0,11.0,0.1),\n",
    "         options=opts)\n",
    "    "
   ]
  },
  {
   "cell_type": "code",
   "execution_count": 5,
   "metadata": {},
   "outputs": [
    {
     "data": {
      "application/vnd.jupyter.widget-view+json": {
       "model_id": "e42d886521f5454e96bbd483b66a8451",
       "version_major": 2,
       "version_minor": 0
      },
      "text/plain": [
       "VBox(children=(interactive(children=(FloatSlider(value=8.713444381434728, description='t33_gyr', max=12.793634…"
      ]
     },
     "metadata": {},
     "output_type": "display_data"
    }
   ],
   "source": [
    "from gp_sfh import gp_sfh_george, calctimes\n",
    "import nbinteract as nbi\n",
    "import numpy as np\n",
    "\n",
    "import warnings\n",
    "warnings.filterwarnings('ignore')\n",
    "\n",
    "from astropy.cosmology import FlatLambdaCDM\n",
    "cosmo = FlatLambdaCDM(H0=70, Om0=0.3)\n",
    "\n",
    "def x_values():\n",
    "    return cosmo.age(0.0).value - np.linspace(0,cosmo.age(0.0).value,1000)\n",
    "def y_values(x, log_mstar, log_ssfr, t33_gyr, t66_gyr):\n",
    "    sfh_tuple = np.hstack([log_mstar,log_ssfr+log_mstar,2,1 - t33_gyr/cosmo.age(0.0).value, 1 - t66_gyr/cosmo.age(0.0).value])\n",
    "    rand_sfh, _ = gp_sfh_george(sfh_tuple, zval = 0.0)\n",
    "    return rand_sfh\n",
    "\n",
    "opts = {\n",
    "    'xlim': (0, 14),\n",
    "    'ylim': (0, 12),\n",
    "    'animation_duration': 120,\n",
    "    'xlabel': 'lookback time [Gyr]',\n",
    "    'ylabel': 'SFR(t) [Msun/yr]',\n",
    "    'title': 'Gaussian Process-based Star Formation Histories'\n",
    "}\n",
    "\n",
    "nbi.line(x_values, y_values, \n",
    "         t33_gyr = (cosmo.age(0.0).value*0.35,cosmo.age(0.0).value*0.95, 0.1), \n",
    "         t66_gyr = (cosmo.age(0.0).value*0.05,cosmo.age(0.0).value*0.65, 0.1), \n",
    "         log_ssfr = (-12.0,-9.0,0.1), log_mstar = (10.0,11.0,0.1),\n",
    "         options=opts)\n",
    "    "
   ]
  },
  {
   "cell_type": "code",
   "execution_count": null,
   "metadata": {},
   "outputs": [],
   "source": []
  }
 ],
 "metadata": {
  "kernelspec": {
   "display_name": "Python 3",
   "language": "python",
   "name": "python3"
  },
  "language_info": {
   "codemirror_mode": {
    "name": "ipython",
    "version": 3
   },
   "file_extension": ".py",
   "mimetype": "text/x-python",
   "name": "python",
   "nbconvert_exporter": "python",
   "pygments_lexer": "ipython3",
   "version": "3.7.3"
  }
 },
 "nbformat": 4,
 "nbformat_minor": 2
}
